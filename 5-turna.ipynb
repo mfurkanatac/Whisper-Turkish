{
 "cells": [
  {
   "cell_type": "code",
   "execution_count": null,
   "metadata": {},
   "outputs": [],
   "source": [
    "import pandas as pd\n",
    "\n",
    "df = pd.read_csv(\"transcription_results_with_metrics_50_tr_md2.csv\")"
   ]
  },
  {
   "cell_type": "code",
   "execution_count": null,
   "metadata": {},
   "outputs": [],
   "source": [
    "from turkish_lm_tuner import TextPredictor\n",
    "\n",
    "# import models based on their tasks\n",
    "sentiment_predictor = TextPredictor(model_name='boun-tabi-LMG/turna_classification_17bintweet_sentiment', task='sentiment')\n",
    "topic_predictor = TextPredictor(model_name='boun-tabi-LMG/turna_classification_ttc4900', task='categorization')"
   ]
  },
  {
   "cell_type": "code",
   "execution_count": null,
   "metadata": {},
   "outputs": [],
   "source": [
    "def analyze_text(text):\n",
    "    sentiment = sentiment_predictor.predict(text)\n",
    "    topic = topic_predictor.predict(text)\n",
    "    return sentiment, topic\n",
    "\n",
    "# Add new columns for sentiment and topic\n",
    "df['sentiment'] = \"\"\n",
    "df['topic'] = \"\"\n",
    "\n",
    "for index, row in df.iterrows():\n",
    "    transcription = row['transcription']\n",
    "    sentiment, topic = analyze_text(transcription)\n",
    "    df.at[index, 'sentiment'] = sentiment\n",
    "    df.at[index, 'topic'] = topic"
   ]
  },
  {
   "cell_type": "code",
   "execution_count": null,
   "metadata": {},
   "outputs": [],
   "source": [
    "df.to_csv(\"turna1.csv\", index=False)"
   ]
  }
 ],
 "metadata": {
  "kernelspec": {
   "display_name": "base",
   "language": "python",
   "name": "python3"
  },
  "language_info": {
   "codemirror_mode": {
    "name": "ipython",
    "version": 3
   },
   "file_extension": ".py",
   "mimetype": "text/x-python",
   "name": "python",
   "nbconvert_exporter": "python",
   "pygments_lexer": "ipython3",
   "version": "3.10.6"
  }
 },
 "nbformat": 4,
 "nbformat_minor": 2
}
