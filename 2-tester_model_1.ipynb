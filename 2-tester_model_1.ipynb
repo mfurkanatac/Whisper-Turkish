{
 "cells": [
  {
   "cell_type": "code",
   "execution_count": null,
   "metadata": {},
   "outputs": [],
   "source": [
    "import tarfile\n",
    "\n",
    "with tarfile.open(\"common_voice_17.gz\", \"r:gz\") as tar:\n",
    "    tar.extractall(\"mp3s/\")"
   ]
  },
  {
   "cell_type": "code",
   "execution_count": null,
   "metadata": {},
   "outputs": [],
   "source": [
    "import whisper\n",
    "import os\n",
    "import pandas as pd\n",
    "\n",
    "model = whisper.load_model(\"large-v3\")\n",
    "\n",
    "def transcribe_audio(file_path):\n",
    "    result = model.transcribe(file_path, language=\"tr\")\n",
    "    return result[\"text\"]\n",
    "\n",
    "# Load the test data (common voice v17, extracted Turkish data)\n",
    "audio_folder = \"mp3s/cv-corpus-17.0-2024-03-15/tr/clips/\"\n",
    "test_file_path = \"mp3s/cv-corpus-17.0-2024-03-15/tr/test.tsv\"\n",
    "save_to = \"transcription_results_larger_than_50_tr.csv\"\n",
    "\n",
    "test_data = pd.read_csv(test_file_path, sep=\"\\t\")\n",
    "\n",
    "# lets filter the texts with at least length of 50\n",
    "test_data = test_data[test_data[\"sentence\"].str.len() > 50]\n",
    "\n",
    "# randomly pick 1000 samples (or can be 250 too (which we are doing in tester_model_2.ipynb))\n",
    "if test_data.shape[0] > 50:\n",
    "    test_data = test_data.sample(n=50, random_state=42)\n",
    "\n",
    "# Initialize a list to store the results\n",
    "transcriptions = []\n",
    "\n",
    "for index, row in test_data.iterrows():\n",
    "    audio_file = row[\"path\"]\n",
    "    expected_transcription = row[\"sentence\"]\n",
    "    \n",
    "    audio_path = os.path.join(audio_folder, audio_file)\n",
    "    \n",
    "    # Transcribe the audio file\n",
    "    if os.path.exists(audio_path):\n",
    "        transcription = transcribe_audio(audio_path)\n",
    "        transcriptions.append({\n",
    "            \"file\": audio_file,\n",
    "            \"expected_transcription\": expected_transcription,\n",
    "            \"transcription\": transcription\n",
    "        })\n",
    "    else:\n",
    "        print(f\"File {audio_file} not found.\")\n",
    "\n",
    "results_df = pd.DataFrame(transcriptions)\n",
    "results_df.to_csv(save_to, index=False)\n",
    "print(results_df)\n"
   ]
  },
  {
   "cell_type": "code",
   "execution_count": null,
   "metadata": {},
   "outputs": [],
   "source": []
  }
 ],
 "metadata": {
  "kernelspec": {
   "display_name": "base",
   "language": "python",
   "name": "python3"
  },
  "language_info": {
   "codemirror_mode": {
    "name": "ipython",
    "version": 3
   },
   "file_extension": ".py",
   "mimetype": "text/x-python",
   "name": "python",
   "nbconvert_exporter": "python",
   "pygments_lexer": "ipython3",
   "version": "3.10.6"
  }
 },
 "nbformat": 4,
 "nbformat_minor": 2
}
