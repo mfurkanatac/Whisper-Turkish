{
 "cells": [
  {
   "cell_type": "code",
   "execution_count": null,
   "metadata": {},
   "outputs": [],
   "source": [
    "import os\n",
    "from pyannote.audio import Pipeline, Audio\n",
    "from pyannote.core import Segment\n",
    "import torch\n",
    "from transformers import AutoProcessor, WhisperForConditionalGeneration\n",
    "import numpy as np\n",
    "\n",
    "# Load models\n",
    "speaker_diarization = Pipeline.from_pretrained(\"pyannote/speaker-diarization\", use_auth_token=\"AUTH_TOKEN\")\n",
    "processor = AutoProcessor.from_pretrained(\"erdiyalcin/whisper-large-v3-turkish-test1\")\n",
    "model = WhisperForConditionalGeneration.from_pretrained(\"erdiyalcin/whisper-large-v3-turkish-test1\")\n",
    "audio_file_path = \"deneme.wav\"\n",
    "\n",
    "# Apply speaker diarization\n",
    "who_speaks_when = speaker_diarization(audio_file_path, num_speakers=2)\n",
    "\n",
    "# Initialize text file for saving transcriptions\n",
    "output_file = \"transcriptions_with_speakers.txt\"\n",
    "\n",
    "with open(output_file, \"w\", encoding=\"utf-8\") as f_out:\n",
    "    # Process each speaker segment\n",
    "    audio = Audio(sample_rate=16000, mono=True)\n",
    "    for segment, _, speaker in who_speaks_when.itertracks(yield_label=True):\n",
    "        waveform, sample_rate = audio.crop(audio_file_path, segment)\n",
    "        waveform_np = waveform.squeeze().numpy().astype(np.float16)  \n",
    "        print(waveform_np.dtype)\n",
    "\n",
    "        inputs = processor(waveform_np, return_tensors=\"pt\", sampling_rate=sample_rate)\n",
    "        print(inputs.input_features.dtype)\n",
    "\n",
    "        input_features = inputs.input_features  \n",
    "        print(input_features.dtype)\n",
    "\n",
    "        generated_ids = model.generate(inputs=input_features)\n",
    "        transcription = processor.batch_decode(generated_ids, skip_special_tokens=True)[0]\n",
    "        \n",
    "        f_out.write(f\"{segment.start:06.1f}s - {segment.end:06.1f}s - {speaker}: {transcription}\\n\")\n",
    "        print(f\"{segment.start:06.1f}s - {segment.end:06.1f}s - {speaker}: {transcription}\")\n",
    "\n",
    "print(f\"Transcriptions saved to {output_file}\")\n"
   ]
  },
  {
   "cell_type": "code",
   "execution_count": null,
   "metadata": {},
   "outputs": [],
   "source": []
  }
 ],
 "metadata": {
  "kernelspec": {
   "display_name": "base",
   "language": "python",
   "name": "python3"
  },
  "language_info": {
   "codemirror_mode": {
    "name": "ipython",
    "version": 3
   },
   "file_extension": ".py",
   "mimetype": "text/x-python",
   "name": "python",
   "nbconvert_exporter": "python",
   "pygments_lexer": "ipython3",
   "version": "3.9.15"
  }
 },
 "nbformat": 4,
 "nbformat_minor": 2
}
