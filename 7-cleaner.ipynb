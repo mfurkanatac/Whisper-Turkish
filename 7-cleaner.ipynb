{
 "cells": [
  {
   "cell_type": "markdown",
   "metadata": {},
   "source": [
    "# Transcription to Excel Converter (With Cleaning)"
   ]
  },
  {
   "cell_type": "code",
   "execution_count": null,
   "metadata": {},
   "outputs": [],
   "source": [
    "import csv\n",
    "\n",
    "# Function to convert seconds to HH:MM:SS format\n",
    "def format_time(seconds):\n",
    "    hours = int(seconds // 3600)\n",
    "    minutes = int((seconds % 3600) // 60)\n",
    "    seconds = int(seconds % 60)\n",
    "    return f\"{hours:02d}:{minutes:02d}:{seconds:02d}\"\n",
    "\n",
    "# Read the transcriptions from the text file\n",
    "input_file = \"transcriptions_with_speakers.txt\"\n",
    "lines = []\n",
    "with open(input_file, \"r\", encoding=\"utf-8\") as f:\n",
    "    lines = f.readlines()\n",
    "\n",
    "\n",
    "output_file = \"transcriptions_with_speakers.csv\"\n",
    "with open(output_file, \"w\", encoding=\"utf-8\", newline=\"\") as csv_file:\n",
    "    csv_writer = csv.writer(csv_file)\n",
    "    # header\n",
    "    csv_writer.writerow([\"Start Time\", \"End Time\", \"Speaker\", \"Transcription\"])\n",
    "    \n",
    "    for line in lines:\n",
    "        try:\n",
    "            # Example line: \"0000.5s - 0012.7s - SPEAKER_00: Merhaba, ...\"\n",
    "            parts = line.strip().split(\" - \")\n",
    "            if len(parts) < 3:\n",
    "                print(f\"Skipping line due to incorrect format: {line}\")\n",
    "                continue\n",
    "            \n",
    "            start_time = float(parts[0][:-1])  # Remove the 's' and convert to float\n",
    "            end_time = float(parts[1][:-1])  # Remove the 's' and convert to float\n",
    "            \n",
    "            # Split the remaining part to get speaker and transcription\n",
    "            speaker_transcription = parts[2].split(\": \", 1)\n",
    "            if len(speaker_transcription) < 2:\n",
    "                speaker_transcription.append(\"\")  # Add an empty transcription if missing\n",
    "\n",
    "            speaker = speaker_transcription[0]\n",
    "            transcription = speaker_transcription[1]\n",
    "            \n",
    "            formatted_start_time = format_time(start_time)\n",
    "            formatted_end_time = format_time(end_time)\n",
    "            \n",
    "            csv_writer.writerow([formatted_start_time, formatted_end_time, speaker, transcription])\n",
    "        except Exception as e:\n",
    "            print(f\"Error processing line: {line}. Error: {e}\")\n",
    "\n",
    "print(f\"CSV file '{output_file}' created successfully.\")"
   ]
  },
  {
   "cell_type": "markdown",
   "metadata": {},
   "source": [
    "# Further cleaning to make it an excel file that is readable"
   ]
  },
  {
   "cell_type": "code",
   "execution_count": null,
   "metadata": {},
   "outputs": [],
   "source": [
    "import pandas as pd\n",
    "\n",
    "# Load the CSV file created earlier\n",
    "csv_file = \"transcriptions_with_speakers.csv\"\n",
    "df = pd.read_csv(csv_file)\n",
    "\n",
    "# Function to clean transcription text\n",
    "def clean_transcription(text):\n",
    "    # Check if the text is a string\n",
    "    if isinstance(text, str):\n",
    "        # Remove unwanted characters at the beginning and end\n",
    "        text = text.strip()\n",
    "        if text.startswith('\"') and text.endswith('\"'):\n",
    "            text = text[1:-1]\n",
    "    return text\n",
    "\n",
    "# Apply the cleaning function to the 'Transcription' column\n",
    "df['Transcription'] = df['Transcription'].apply(clean_transcription)\n",
    "\n",
    "# Save the cleaned data back to CSV\n",
    "cleaned_csv_file = \"cleaned_transcriptions_with_speakers.csv\"\n",
    "df.to_csv(cleaned_csv_file, index=False)\n",
    "\n",
    "print(f\"Cleaned CSV file '{cleaned_csv_file}' created successfully.\")"
   ]
  },
  {
   "cell_type": "code",
   "execution_count": null,
   "metadata": {},
   "outputs": [],
   "source": [
    "df.to_excel(\"cleaned_transcriptions_with_speakers.xlsx\", index=False)"
   ]
  }
 ],
 "metadata": {
  "kernelspec": {
   "display_name": "base",
   "language": "python",
   "name": "python3"
  },
  "language_info": {
   "codemirror_mode": {
    "name": "ipython",
    "version": 3
   },
   "file_extension": ".py",
   "mimetype": "text/x-python",
   "name": "python",
   "nbconvert_exporter": "python",
   "pygments_lexer": "ipython3",
   "version": "3.9.15"
  }
 },
 "nbformat": 4,
 "nbformat_minor": 2
}
